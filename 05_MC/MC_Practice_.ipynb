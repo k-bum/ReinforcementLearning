{
  "cells": [
    {
      "cell_type": "markdown",
      "source": [
        "# Reinforcement Learning: Monte Carlo Prediction \n",
        "\n",
        "very kindly version"
      ],
      "metadata": {
        "id": "T5Uqx-hebFLy"
      }
    },
    {
      "cell_type": "markdown",
      "source": [
        "# Google Drive와 연동하기"
      ],
      "metadata": {
        "id": "Sac4JLNcK2ew"
      }
    },
    {
      "cell_type": "code",
      "source": [
        "from google.colab import drive\n",
        "drive.mount('/content/drive')"
      ],
      "metadata": {
        "id": "jrhxZLF7KMrc",
        "colab": {
          "base_uri": "https://localhost:8080/"
        },
        "outputId": "6ac55337-2677-4194-ceb3-0fc568f86c3c"
      },
      "execution_count": 1,
      "outputs": [
        {
          "output_type": "stream",
          "name": "stdout",
          "text": [
            "Mounted at /content/drive\n"
          ]
        }
      ]
    },
    {
      "cell_type": "code",
      "execution_count": 3,
      "metadata": {
        "id": "qvVtShMMKKFo",
        "colab": {
          "base_uri": "https://localhost:8080/"
        },
        "outputId": "3fd59513-0ad8-4539-dcca-94e4902e06fd"
      },
      "outputs": [
        {
          "output_type": "stream",
          "name": "stdout",
          "text": [
            "/content/drive/MyDrive/Colab Notebooks/RL2023/MC\n",
            "gridworld.py  MC_Practice_.ipynb\n"
          ]
        },
        {
          "output_type": "stream",
          "name": "stderr",
          "text": [
            "/usr/local/lib/python3.9/dist-packages/ipykernel/ipkernel.py:283: DeprecationWarning: `should_run_async` will not call `transform_cell` automatically in the future. Please pass the result to `transformed_cell` argument and any exception that happen during thetransform in `preprocessing_exc_tuple` in IPython 7.17 and above.\n",
            "  and should_run_async(code)\n"
          ]
        }
      ],
      "source": [
        "# 본인의 파일 저장 경로로 변경해주세요\n",
        "%cd /content/drive/MyDrive/'Colab Notebooks'/RL2023/MC\n",
        "!ls\n",
        "import sys; sys.path.append('..') # add project root to the python path\n",
        "import numpy as np\n",
        "import matplotlib.pyplot as plt\n",
        "from gridworld import *\n",
        "\n",
        "np.random.seed(0)"
      ]
    },
    {
      "cell_type": "markdown",
      "metadata": {
        "id": "W7pIhjRYKKFp"
      },
      "source": [
        "## `GridWorld` 초기화하기\n",
        "\n",
        "가로로 `nx` 개, 세로로 `ny` 개의 칸을 가진 `GridworldEnv`를 만듭니다!"
      ]
    },
    {
      "cell_type": "code",
      "execution_count": 4,
      "metadata": {
        "id": "162cx8ygKKFq",
        "colab": {
          "base_uri": "https://localhost:8080/"
        },
        "outputId": "c0f2bb33-265a-4f7a-b8cf-5afd0a89b253"
      },
      "outputs": [
        {
          "output_type": "stream",
          "name": "stderr",
          "text": [
            "/usr/local/lib/python3.9/dist-packages/gym/utils/seeding.py:41: DeprecationWarning: \u001b[33mWARN: Function `rng.rand(*size)` is marked as deprecated and will be removed in the future. Please use `Generator.random(size)` instead.\u001b[0m\n",
            "  deprecation(\n"
          ]
        }
      ],
      "source": [
        "nx, ny = 5, 5\n",
        "env = GridworldEnv([ny, nx])"
      ]
    },
    {
      "cell_type": "markdown",
      "source": [
        "def get_action(state): 현재 state에서 action을 정의하는 함수. 본 예제에서는 uniform random 으로 정의합니다. (즉, 모든 방향의 확률이 동일함)"
      ],
      "metadata": {
        "id": "adgK5LWYbreq"
      }
    },
    {
      "cell_type": "code",
      "execution_count": 5,
      "metadata": {
        "id": "rLia2qXRKKFr"
      },
      "outputs": [],
      "source": [
        "def get_action(state):\n",
        "\n",
        "        action = np.random.choice(range(4))\n",
        "\n",
        "        return action"
      ]
    },
    {
      "cell_type": "markdown",
      "metadata": {
        "id": "uLXMCeJDKKFr"
      },
      "source": [
        "###  `run_episode()`\n",
        "\n",
        "MC 기법은 하나의 에피소드가 진행되고 state,action,reward 정보를 모두 모아 반환합니다.\n"
      ]
    },
    {
      "cell_type": "code",
      "source": [
        "def run_episode(env, timeout=1000):\n",
        "    env.reset()\n",
        "    states = []\n",
        "    actions = []\n",
        "    rewards = []\n",
        "\n",
        "    i = 0\n",
        "    timeouted = False\n",
        "    while True:\n",
        "        state = env.s\n",
        "        action = get_action(state)\n",
        "        next_state, reward, done, info = env.step(action)\n",
        "        states.append(state)\n",
        "        actions.append(action)\n",
        "        rewards.append(reward)\n",
        "\n",
        "        if done:\n",
        "            break\n",
        "        else:\n",
        "            i += 1\n",
        "            if i >= timeout:\n",
        "                timeouted = True\n",
        "                break\n",
        "\n",
        "    if not timeouted:\n",
        "        episode = (states, actions, rewards)\n",
        "    return episode"
      ],
      "metadata": {
        "id": "8V8-8qsWMzcb"
      },
      "execution_count": 6,
      "outputs": []
    },
    {
      "cell_type": "markdown",
      "source": [
        "no_episode 개를 생성하여 episodes 에 저장합니다.\n",
        "\n",
        "기본 1000개이지만 샘플 숫자를 바꿔가면서 해보세요."
      ],
      "metadata": {
        "id": "st7QA3u8b-Zy"
      }
    },
    {
      "cell_type": "code",
      "execution_count": 7,
      "metadata": {
        "id": "Q5LaW6i1KKFs"
      },
      "outputs": [],
      "source": [
        "episodes=[]\n",
        "no_episode = 10000\n",
        "for _ in range(no_episode):\n",
        "    episodes.append(run_episode(env))"
      ]
    },
    {
      "cell_type": "markdown",
      "source": [
        "에피소드의 형식 및 transit이 궁금하면 아래의 코드를 실행해보세요\n",
        "\n",
        "episode는 s1, a1, r1, s2, a2, r2... 순으로 저장되어 있습니다."
      ],
      "metadata": {
        "id": "FeHgqHwEcWy6"
      }
    },
    {
      "cell_type": "code",
      "source": [
        "#  episodes 는 list 이므로, len으로 크기 확인\n",
        "print(len(episodes))\n",
        "# 10개만 출력해봅시다\n",
        "print(episodes[1:10])"
      ],
      "metadata": {
        "id": "zSynA5TecXAx",
        "colab": {
          "base_uri": "https://localhost:8080/"
        },
        "outputId": "8f39270a-c59d-4436-e48a-5e84513d1004"
      },
      "execution_count": 8,
      "outputs": [
        {
          "output_type": "stream",
          "name": "stdout",
          "text": [
            "10000\n",
            "[([12, 11, 12, 7, 6, 5, 5, 5, 6, 5, 6, 11, 6, 5, 10, 5], [3, 1, 0, 3, 3, 3, 3, 1, 3, 1, 2, 0, 3, 2, 0, 0], [-1.0, -1.0, -1.0, -1.0, -1.0, -1.0, -1.0, -1.0, -1.0, -1.0, -1.0, -1.0, -1.0, -1.0, -1.0, -1.0]), ([1, 1, 6, 7, 12, 11, 10, 15, 10, 11, 12, 13, 14, 9, 9, 4, 3, 3, 2, 3, 8, 7, 6, 1, 6, 5], [0, 2, 1, 2, 3, 3, 2, 0, 1, 1, 1, 1, 0, 1, 0, 3, 0, 3, 1, 2, 3, 3, 0, 2, 3, 0], [-1.0, -1.0, -1.0, -1.0, -1.0, -1.0, -1.0, -1.0, -1.0, -1.0, -1.0, -1.0, -1.0, -1.0, -1.0, -1.0, -1.0, -1.0, -1.0, -1.0, -1.0, -1.0, -1.0, -1.0, -1.0, -1.0]), ([21, 22, 21, 22, 21, 20, 20, 20, 15, 16, 17, 18, 17, 12, 11, 16, 11, 10, 10, 15, 15, 20, 20, 15, 20, 15, 10, 5, 6, 7, 12, 7, 2, 3, 2, 2, 3, 8, 13, 12, 7, 8, 9, 8, 9, 9, 8, 13, 12, 11, 16, 21, 20, 15, 20, 20, 21, 16, 17, 22, 17, 16, 11, 16, 11, 10, 10, 5, 5], [1, 3, 1, 3, 3, 2, 3, 0, 1, 1, 1, 3, 0, 3, 2, 0, 3, 3, 2, 3, 2, 3, 0, 2, 0, 0, 0, 1, 1, 2, 0, 0, 1, 3, 0, 1, 2, 2, 3, 0, 1, 1, 3, 1, 1, 3, 2, 3, 3, 2, 2, 3, 0, 2, 3, 1, 0, 1, 2, 0, 3, 0, 2, 0, 3, 3, 0, 3, 0], [-1.0, -1.0, -1.0, -1.0, -1.0, -1.0, -1.0, -1.0, -1.0, -1.0, -1.0, -1.0, -1.0, -1.0, -1.0, -1.0, -1.0, -1.0, -1.0, -1.0, -1.0, -1.0, -1.0, -1.0, -1.0, -1.0, -1.0, -1.0, -1.0, -1.0, -1.0, -1.0, -1.0, -1.0, -1.0, -1.0, -1.0, -1.0, -1.0, -1.0, -1.0, -1.0, -1.0, -1.0, -1.0, -1.0, -1.0, -1.0, -1.0, -1.0, -1.0, -1.0, -1.0, -1.0, -1.0, -1.0, -1.0, -1.0, -1.0, -1.0, -1.0, -1.0, -1.0, -1.0, -1.0, -1.0, -1.0, -1.0, -1.0]), ([6, 1, 1, 1, 6, 5], [0, 0, 0, 2, 3, 0], [-1.0, -1.0, -1.0, -1.0, -1.0, -1.0]), ([19, 18, 23, 22, 21, 22, 23], [3, 2, 3, 3, 1, 1, 1], [-1.0, -1.0, -1.0, -1.0, -1.0, -1.0, -1.0]), ([2, 2, 3, 4, 4, 3, 3, 2, 3, 8, 3, 4, 9, 4, 9, 4, 4, 3, 8, 13, 14, 9, 8, 9, 9, 8, 3, 8, 13, 12, 17, 16, 15, 15, 20, 21, 21, 21, 20, 20, 20, 20, 20, 20, 20, 15, 16, 21, 20, 20, 21, 21, 22, 17, 22, 22, 21, 16, 15, 20, 20, 15, 10, 15, 10, 15, 15, 20, 20, 20, 15, 10, 5, 6, 11, 6, 7, 12, 11, 16, 21, 20, 21, 16, 11, 6, 5, 5], [0, 1, 1, 1, 3, 0, 3, 1, 2, 0, 1, 2, 0, 2, 0, 1, 3, 2, 2, 1, 0, 3, 1, 1, 3, 0, 2, 2, 3, 2, 3, 3, 3, 2, 1, 2, 2, 3, 2, 3, 3, 2, 2, 3, 0, 1, 2, 3, 2, 1, 2, 1, 0, 2, 2, 3, 0, 3, 2, 3, 0, 0, 2, 0, 2, 3, 2, 2, 3, 0, 0, 0, 1, 2, 0, 1, 2, 3, 2, 2, 3, 1, 0, 0, 0, 3, 3, 0], [-1.0, -1.0, -1.0, -1.0, -1.0, -1.0, -1.0, -1.0, -1.0, -1.0, -1.0, -1.0, -1.0, -1.0, -1.0, -1.0, -1.0, -1.0, -1.0, -1.0, -1.0, -1.0, -1.0, -1.0, -1.0, -1.0, -1.0, -1.0, -1.0, -1.0, -1.0, -1.0, -1.0, -1.0, -1.0, -1.0, -1.0, -1.0, -1.0, -1.0, -1.0, -1.0, -1.0, -1.0, -1.0, -1.0, -1.0, -1.0, -1.0, -1.0, -1.0, -1.0, -1.0, -1.0, -1.0, -1.0, -1.0, -1.0, -1.0, -1.0, -1.0, -1.0, -1.0, -1.0, -1.0, -1.0, -1.0, -1.0, -1.0, -1.0, -1.0, -1.0, -1.0, -1.0, -1.0, -1.0, -1.0, -1.0, -1.0, -1.0, -1.0, -1.0, -1.0, -1.0, -1.0, -1.0, -1.0, -1.0]), ([17, 22, 22, 17, 12, 11, 6, 7, 12, 7, 2, 1, 2, 1, 1, 6, 7, 8, 9, 8, 3, 3, 3, 4, 4, 9, 9, 4, 4, 4, 9, 9, 9, 8, 9, 4, 4, 4, 3, 2, 3, 8, 9, 8, 9, 8, 3, 3, 2, 3, 8, 3, 8, 7, 6, 11, 10, 11, 12, 13, 12, 17, 12, 7, 8, 3, 2, 7, 6, 5, 10, 5, 10, 10, 15, 20, 21, 22, 21, 20, 15, 15, 10, 5, 10, 15, 15, 16, 17, 12, 11, 6, 11, 10, 10, 11, 10, 11, 10, 15, 10, 11, 12, 11, 10, 10, 11, 12, 13, 12, 11, 16, 21, 21, 16, 15, 15, 16, 21, 20, 21, 20, 20, 21, 22, 23, 18, 23, 23, 18, 19, 19, 14, 13, 8, 3, 2, 7, 8, 13, 14, 19, 14, 19, 14, 14, 14, 14, 9, 8, 3, 2, 2, 2, 2, 2, 3, 2, 1, 1], [2, 2, 0, 0, 3, 0, 1, 2, 0, 0, 3, 1, 3, 0, 2, 1, 1, 1, 3, 0, 0, 0, 1, 1, 2, 1, 0, 0, 1, 2, 1, 1, 3, 1, 0, 0, 0, 3, 3, 1, 2, 1, 3, 1, 3, 0, 0, 3, 1, 2, 0, 2, 3, 3, 2, 3, 1, 1, 1, 3, 2, 0, 0, 1, 0, 3, 2, 3, 3, 2, 0, 2, 3, 2, 2, 1, 1, 3, 3, 0, 3, 0, 0, 2, 2, 3, 1, 1, 0, 3, 0, 2, 3, 3, 1, 3, 1, 3, 2, 0, 1, 1, 3, 3, 3, 1, 1, 1, 3, 3, 2, 2, 2, 0, 3, 3, 1, 2, 3, 1, 3, 3, 1, 1, 1, 0, 2, 2, 0, 1, 1, 0, 3, 0, 0, 3, 2, 1, 2, 1, 2, 0, 2, 0, 1, 1, 1, 0, 3, 0, 3, 0, 0, 0, 0, 1, 3, 3, 0, 3], [-1.0, -1.0, -1.0, -1.0, -1.0, -1.0, -1.0, -1.0, -1.0, -1.0, -1.0, -1.0, -1.0, -1.0, -1.0, -1.0, -1.0, -1.0, -1.0, -1.0, -1.0, -1.0, -1.0, -1.0, -1.0, -1.0, -1.0, -1.0, -1.0, -1.0, -1.0, -1.0, -1.0, -1.0, -1.0, -1.0, -1.0, -1.0, -1.0, -1.0, -1.0, -1.0, -1.0, -1.0, -1.0, -1.0, -1.0, -1.0, -1.0, -1.0, -1.0, -1.0, -1.0, -1.0, -1.0, -1.0, -1.0, -1.0, -1.0, -1.0, -1.0, -1.0, -1.0, -1.0, -1.0, -1.0, -1.0, -1.0, -1.0, -1.0, -1.0, -1.0, -1.0, -1.0, -1.0, -1.0, -1.0, -1.0, -1.0, -1.0, -1.0, -1.0, -1.0, -1.0, -1.0, -1.0, -1.0, -1.0, -1.0, -1.0, -1.0, -1.0, -1.0, -1.0, -1.0, -1.0, -1.0, -1.0, -1.0, -1.0, -1.0, -1.0, -1.0, -1.0, -1.0, -1.0, -1.0, -1.0, -1.0, -1.0, -1.0, -1.0, -1.0, -1.0, -1.0, -1.0, -1.0, -1.0, -1.0, -1.0, -1.0, -1.0, -1.0, -1.0, -1.0, -1.0, -1.0, -1.0, -1.0, -1.0, -1.0, -1.0, -1.0, -1.0, -1.0, -1.0, -1.0, -1.0, -1.0, -1.0, -1.0, -1.0, -1.0, -1.0, -1.0, -1.0, -1.0, -1.0, -1.0, -1.0, -1.0, -1.0, -1.0, -1.0, -1.0, -1.0, -1.0, -1.0, -1.0, -1.0]), ([12, 17, 22, 23], [2, 2, 1, 1], [-1.0, -1.0, -1.0, -1.0]), ([22, 23, 23], [1, 2, 1], [-1.0, -1.0, -1.0])]\n"
          ]
        }
      ]
    },
    {
      "cell_type": "markdown",
      "source": [
        "# MC\n",
        "$$V(s) \\leftarrow \\frac{S(s)}{N(s)}$$\n",
        "$$Q(s,a) \\leftarrow \\frac{S(s,a)}{N(s,a)}$$\n",
        "\n",
        "$S(s)$ : 상태 s 에 대한 return들의 합 \\\\\n",
        "$N(s)$ : 상태 s 를 방문한 횟수 \\\\\n",
        "$S(s,a)$ : 상태 s에서 a 행동을 했을 때 return들의 값 \\\\\n",
        "$N(s,a)$ : 상태 s에서 a 행동을 한 횟수\n",
        "\n",
        "Every Visit 방식입니다."
      ],
      "metadata": {
        "id": "ahLce3UrIR57"
      }
    },
    {
      "cell_type": "code",
      "source": [
        "s_v = np.zeros(shape=nx*ny)\n",
        "s_q = np.zeros(shape=(nx*ny,4))\n",
        "n_v = np.zeros(shape=nx*ny)\n",
        "n_q = np.zeros(shape=(nx*ny,4))\n",
        "gamma = 1.0\n",
        "lr = 1e-3\n",
        "\n",
        "for episode in episodes:\n",
        "    states, actions, rewards = episode\n",
        "\n",
        "    # reversing the inputs! (뒤에서 부터 계산하기 위함)\n",
        "    # for efficient computation of returns\n",
        "    states = reversed(states)\n",
        "    actions = reversed(actions)\n",
        "    rewards = reversed(rewards)\n",
        "\n",
        "    iter = zip(states, actions, rewards)\n",
        "    cum_r = 0\n",
        "    for s, a, r in iter:\n",
        "        cum_r *= gamma\n",
        "        cum_r += r\n",
        "\n",
        "        n_v[s] += 1 # counting\n",
        "        n_q[s, a] += 1\n",
        "\n",
        "        s_v[s] += cum_r \n",
        "        s_q[s, a] += cum_r\n",
        "v = s_v / (n_v)\n",
        "q = s_q / (n_q)"
      ],
      "metadata": {
        "id": "ymcA7JyxISQ7"
      },
      "execution_count": 9,
      "outputs": []
    },
    {
      "cell_type": "markdown",
      "source": [
        "## 추산된 상태가치함수 $V(s)$ 및 $Q(s,a)$ 확인하기"
      ],
      "metadata": {
        "id": "BXmDCOCHISl9"
      }
    },
    {
      "cell_type": "code",
      "source": [
        "# sample이 많아지면 정답과 가까워진다\n",
        "fig, ax = plt.subplots(1,2, figsize=(12,6))\n",
        "visualize_value_function(ax[0], v, nx, ny)\n",
        "_ = ax[0].set_title(\"Value pi\")\n",
        "visualize_policy(ax[1], q, nx, ny)\n",
        "_ = ax[1].set_title(\"Greedy policy\")"
      ],
      "metadata": {
        "id": "4Xj-kjMDIS9o",
        "colab": {
          "base_uri": "https://localhost:8080/",
          "height": 504
        },
        "outputId": "69029e85-f611-485b-f0fe-22fa3d13d2ea"
      },
      "execution_count": 10,
      "outputs": [
        {
          "output_type": "display_data",
          "data": {
            "text/plain": [
              "<Figure size 1200x600 with 3 Axes>"
            ],
            "image/png": "[encoded data removed]"
          },
          "metadata": {}
        }
      ]
    },
    {
      "cell_type": "code",
      "source": [
        "import pandas as pd\n",
        "\n",
        "def highlight_max(s):\n",
        "    '''\n",
        "    highlight the maximum in a Series green.\n",
        "    '''\n",
        "    is_max = s == s.max()\n",
        "    return ['background-color: green' if v else '' for v in is_max]\n",
        "\n",
        "def visualize_q(q):\n",
        "    df = pd.DataFrame(q, columns=['up', 'right', 'down', 'left']).T\n",
        "    df = df.style.apply(highlight_max)\n",
        "    return df\n",
        "df = visualize_q(q)\n",
        "df"
      ],
      "metadata": {
        "id": "2AjJ9_cNITSR",
        "colab": {
          "base_uri": "https://localhost:8080/",
          "height": 195
        },
        "outputId": "79e7490c-7e19-4364-99ca-8f6f4cc2e793"
      },
      "execution_count": 11,
      "outputs": [
        {
          "output_type": "execute_result",
          "data": {
            "text/plain": [
              "<pandas.io.formats.style.Styler at 0x7f37eb3b3e20>"
            ],
            "text/html": [
              "<style type=\"text/css\">\n",
              "#T_bf91e_row0_col0, #T_bf91e_row0_col5, #T_bf91e_row0_col10, #T_bf91e_row0_col11, #T_bf91e_row0_col15, #T_bf91e_row0_col24, #T_bf91e_row1_col0, #T_bf91e_row1_col12, #T_bf91e_row1_col16, #T_bf91e_row1_col17, #T_bf91e_row1_col18, #T_bf91e_row1_col20, #T_bf91e_row1_col21, #T_bf91e_row1_col22, #T_bf91e_row1_col23, #T_bf91e_row1_col24, #T_bf91e_row2_col0, #T_bf91e_row2_col8, #T_bf91e_row2_col9, #T_bf91e_row2_col13, #T_bf91e_row2_col14, #T_bf91e_row2_col19, #T_bf91e_row2_col24, #T_bf91e_row3_col0, #T_bf91e_row3_col1, #T_bf91e_row3_col2, #T_bf91e_row3_col3, #T_bf91e_row3_col4, #T_bf91e_row3_col6, #T_bf91e_row3_col7, #T_bf91e_row3_col24 {\n",
              "  background-color: green;\n",
              "}\n",
              "</style>\n",
              "<table id=\"T_bf91e\" class=\"dataframe\">\n",
              "  <thead>\n",
              "    <tr>\n",
              "      <th class=\"blank level0\" >&nbsp;</th>\n",
              "      <th id=\"T_bf91e_level0_col0\" class=\"col_heading level0 col0\" >0</th>\n",
              "      <th id=\"T_bf91e_level0_col1\" class=\"col_heading level0 col1\" >1</th>\n",
              "      <th id=\"T_bf91e_level0_col2\" class=\"col_heading level0 col2\" >2</th>\n",
              "      <th id=\"T_bf91e_level0_col3\" class=\"col_heading level0 col3\" >3</th>\n",
              "      <th id=\"T_bf91e_level0_col4\" class=\"col_heading level0 col4\" >4</th>\n",
              "      <th id=\"T_bf91e_level0_col5\" class=\"col_heading level0 col5\" >5</th>\n",
              "      <th id=\"T_bf91e_level0_col6\" class=\"col_heading level0 col6\" >6</th>\n",
              "      <th id=\"T_bf91e_level0_col7\" class=\"col_heading level0 col7\" >7</th>\n",
              "      <th id=\"T_bf91e_level0_col8\" class=\"col_heading level0 col8\" >8</th>\n",
              "      <th id=\"T_bf91e_level0_col9\" class=\"col_heading level0 col9\" >9</th>\n",
              "      <th id=\"T_bf91e_level0_col10\" class=\"col_heading level0 col10\" >10</th>\n",
              "      <th id=\"T_bf91e_level0_col11\" class=\"col_heading level0 col11\" >11</th>\n",
              "      <th id=\"T_bf91e_level0_col12\" class=\"col_heading level0 col12\" >12</th>\n",
              "      <th id=\"T_bf91e_level0_col13\" class=\"col_heading level0 col13\" >13</th>\n",
              "      <th id=\"T_bf91e_level0_col14\" class=\"col_heading level0 col14\" >14</th>\n",
              "      <th id=\"T_bf91e_level0_col15\" class=\"col_heading level0 col15\" >15</th>\n",
              "      <th id=\"T_bf91e_level0_col16\" class=\"col_heading level0 col16\" >16</th>\n",
              "      <th id=\"T_bf91e_level0_col17\" class=\"col_heading level0 col17\" >17</th>\n",
              "      <th id=\"T_bf91e_level0_col18\" class=\"col_heading level0 col18\" >18</th>\n",
              "      <th id=\"T_bf91e_level0_col19\" class=\"col_heading level0 col19\" >19</th>\n",
              "      <th id=\"T_bf91e_level0_col20\" class=\"col_heading level0 col20\" >20</th>\n",
              "      <th id=\"T_bf91e_level0_col21\" class=\"col_heading level0 col21\" >21</th>\n",
              "      <th id=\"T_bf91e_level0_col22\" class=\"col_heading level0 col22\" >22</th>\n",
              "      <th id=\"T_bf91e_level0_col23\" class=\"col_heading level0 col23\" >23</th>\n",
              "      <th id=\"T_bf91e_level0_col24\" class=\"col_heading level0 col24\" >24</th>\n",
              "    </tr>\n",
              "  </thead>\n",
              "  <tbody>\n",
              "    <tr>\n",
              "      <th id=\"T_bf91e_level0_row0\" class=\"row_heading level0 row0\" >up</th>\n",
              "      <td id=\"T_bf91e_row0_col0\" class=\"data row0 col0\" >0.000000</td>\n",
              "      <td id=\"T_bf91e_row0_col1\" class=\"data row0 col1\" >-25.062553</td>\n",
              "      <td id=\"T_bf91e_row0_col2\" class=\"data row0 col2\" >-35.861437</td>\n",
              "      <td id=\"T_bf91e_row0_col3\" class=\"data row0 col3\" >-40.700277</td>\n",
              "      <td id=\"T_bf91e_row0_col4\" class=\"data row0 col4\" >-41.372685</td>\n",
              "      <td id=\"T_bf91e_row0_col5\" class=\"data row0 col5\" >-1.000000</td>\n",
              "      <td id=\"T_bf91e_row0_col6\" class=\"data row0 col6\" >-25.399173</td>\n",
              "      <td id=\"T_bf91e_row0_col7\" class=\"data row0 col7\" >-35.456909</td>\n",
              "      <td id=\"T_bf91e_row0_col8\" class=\"data row0 col8\" >-39.696347</td>\n",
              "      <td id=\"T_bf91e_row0_col9\" class=\"data row0 col9\" >-41.179180</td>\n",
              "      <td id=\"T_bf91e_row0_col10\" class=\"data row0 col10\" >-24.472046</td>\n",
              "      <td id=\"T_bf91e_row0_col11\" class=\"data row0 col11\" >-33.095450</td>\n",
              "      <td id=\"T_bf91e_row0_col12\" class=\"data row0 col12\" >-38.436108</td>\n",
              "      <td id=\"T_bf91e_row0_col13\" class=\"data row0 col13\" >-39.281216</td>\n",
              "      <td id=\"T_bf91e_row0_col14\" class=\"data row0 col14\" >-39.530437</td>\n",
              "      <td id=\"T_bf91e_row0_col15\" class=\"data row0 col15\" >-37.138195</td>\n",
              "      <td id=\"T_bf91e_row0_col16\" class=\"data row0 col16\" >-38.205935</td>\n",
              "      <td id=\"T_bf91e_row0_col17\" class=\"data row0 col17\" >-38.328146</td>\n",
              "      <td id=\"T_bf91e_row0_col18\" class=\"data row0 col18\" >-38.107269</td>\n",
              "      <td id=\"T_bf91e_row0_col19\" class=\"data row0 col19\" >-34.386536</td>\n",
              "      <td id=\"T_bf91e_row0_col20\" class=\"data row0 col20\" >-42.057580</td>\n",
              "      <td id=\"T_bf91e_row0_col21\" class=\"data row0 col21\" >-41.100326</td>\n",
              "      <td id=\"T_bf91e_row0_col22\" class=\"data row0 col22\" >-38.220746</td>\n",
              "      <td id=\"T_bf91e_row0_col23\" class=\"data row0 col23\" >-30.801218</td>\n",
              "      <td id=\"T_bf91e_row0_col24\" class=\"data row0 col24\" >0.000000</td>\n",
              "    </tr>\n",
              "    <tr>\n",
              "      <th id=\"T_bf91e_level0_row1\" class=\"row_heading level0 row1\" >right</th>\n",
              "      <td id=\"T_bf91e_row1_col0\" class=\"data row1 col0\" >0.000000</td>\n",
              "      <td id=\"T_bf91e_row1_col1\" class=\"data row1 col1\" >-36.944661</td>\n",
              "      <td id=\"T_bf91e_row1_col2\" class=\"data row1 col2\" >-40.095457</td>\n",
              "      <td id=\"T_bf91e_row1_col3\" class=\"data row1 col3\" >-41.541571</td>\n",
              "      <td id=\"T_bf91e_row1_col4\" class=\"data row1 col4\" >-41.256946</td>\n",
              "      <td id=\"T_bf91e_row1_col5\" class=\"data row1 col5\" >-32.394558</td>\n",
              "      <td id=\"T_bf91e_row1_col6\" class=\"data row1 col6\" >-38.175101</td>\n",
              "      <td id=\"T_bf91e_row1_col7\" class=\"data row1 col7\" >-40.214188</td>\n",
              "      <td id=\"T_bf91e_row1_col8\" class=\"data row1 col8\" >-40.453587</td>\n",
              "      <td id=\"T_bf91e_row1_col9\" class=\"data row1 col9\" >-39.594983</td>\n",
              "      <td id=\"T_bf91e_row1_col10\" class=\"data row1 col10\" >-39.639896</td>\n",
              "      <td id=\"T_bf91e_row1_col11\" class=\"data row1 col11\" >-39.065008</td>\n",
              "      <td id=\"T_bf91e_row1_col12\" class=\"data row1 col12\" >-37.041745</td>\n",
              "      <td id=\"T_bf91e_row1_col13\" class=\"data row1 col13\" >-34.850788</td>\n",
              "      <td id=\"T_bf91e_row1_col14\" class=\"data row1 col14\" >-34.195556</td>\n",
              "      <td id=\"T_bf91e_row1_col15\" class=\"data row1 col15\" >-40.545248</td>\n",
              "      <td id=\"T_bf91e_row1_col16\" class=\"data row1 col16\" >-37.589886</td>\n",
              "      <td id=\"T_bf91e_row1_col17\" class=\"data row1 col17\" >-31.772727</td>\n",
              "      <td id=\"T_bf91e_row1_col18\" class=\"data row1 col18\" >-23.390220</td>\n",
              "      <td id=\"T_bf91e_row1_col19\" class=\"data row1 col19\" >-24.975979</td>\n",
              "      <td id=\"T_bf91e_row1_col20\" class=\"data row1 col20\" >-41.819645</td>\n",
              "      <td id=\"T_bf91e_row1_col21\" class=\"data row1 col21\" >-35.969925</td>\n",
              "      <td id=\"T_bf91e_row1_col22\" class=\"data row1 col22\" >-24.393165</td>\n",
              "      <td id=\"T_bf91e_row1_col23\" class=\"data row1 col23\" >-1.000000</td>\n",
              "      <td id=\"T_bf91e_row1_col24\" class=\"data row1 col24\" >0.000000</td>\n",
              "    </tr>\n",
              "    <tr>\n",
              "      <th id=\"T_bf91e_level0_row2\" class=\"row_heading level0 row2\" >down</th>\n",
              "      <td id=\"T_bf91e_row2_col0\" class=\"data row2 col0\" >0.000000</td>\n",
              "      <td id=\"T_bf91e_row2_col1\" class=\"data row2 col1\" >-31.778441</td>\n",
              "      <td id=\"T_bf91e_row2_col2\" class=\"data row2 col2\" >-37.950786</td>\n",
              "      <td id=\"T_bf91e_row2_col3\" class=\"data row2 col3\" >-39.186052</td>\n",
              "      <td id=\"T_bf91e_row2_col4\" class=\"data row2 col4\" >-39.485248</td>\n",
              "      <td id=\"T_bf91e_row2_col5\" class=\"data row2 col5\" >-36.331496</td>\n",
              "      <td id=\"T_bf91e_row2_col6\" class=\"data row2 col6\" >-37.273512</td>\n",
              "      <td id=\"T_bf91e_row2_col7\" class=\"data row2 col7\" >-39.441014</td>\n",
              "      <td id=\"T_bf91e_row2_col8\" class=\"data row2 col8\" >-36.600052</td>\n",
              "      <td id=\"T_bf91e_row2_col9\" class=\"data row2 col9\" >-35.358994</td>\n",
              "      <td id=\"T_bf91e_row2_col10\" class=\"data row2 col10\" >-41.693483</td>\n",
              "      <td id=\"T_bf91e_row2_col11\" class=\"data row2 col11\" >-40.867017</td>\n",
              "      <td id=\"T_bf91e_row2_col12\" class=\"data row2 col12\" >-37.771763</td>\n",
              "      <td id=\"T_bf91e_row2_col13\" class=\"data row2 col13\" >-31.677445</td>\n",
              "      <td id=\"T_bf91e_row2_col14\" class=\"data row2 col14\" >-24.219754</td>\n",
              "      <td id=\"T_bf91e_row2_col15\" class=\"data row2 col15\" >-43.646084</td>\n",
              "      <td id=\"T_bf91e_row2_col16\" class=\"data row2 col16\" >-42.326942</td>\n",
              "      <td id=\"T_bf91e_row2_col17\" class=\"data row2 col17\" >-35.110278</td>\n",
              "      <td id=\"T_bf91e_row2_col18\" class=\"data row2 col18\" >-24.475260</td>\n",
              "      <td id=\"T_bf91e_row2_col19\" class=\"data row2 col19\" >-1.000000</td>\n",
              "      <td id=\"T_bf91e_row2_col20\" class=\"data row2 col20\" >-44.866035</td>\n",
              "      <td id=\"T_bf91e_row2_col21\" class=\"data row2 col21\" >-41.880424</td>\n",
              "      <td id=\"T_bf91e_row2_col22\" class=\"data row2 col22\" >-36.132283</td>\n",
              "      <td id=\"T_bf91e_row2_col23\" class=\"data row2 col23\" >-24.915879</td>\n",
              "      <td id=\"T_bf91e_row2_col24\" class=\"data row2 col24\" >0.000000</td>\n",
              "    </tr>\n",
              "    <tr>\n",
              "      <th id=\"T_bf91e_level0_row3\" class=\"row_heading level0 row3\" >left</th>\n",
              "      <td id=\"T_bf91e_row3_col0\" class=\"data row3 col0\" >0.000000</td>\n",
              "      <td id=\"T_bf91e_row3_col1\" class=\"data row3 col1\" >-1.000000</td>\n",
              "      <td id=\"T_bf91e_row3_col2\" class=\"data row3 col2\" >-23.763416</td>\n",
              "      <td id=\"T_bf91e_row3_col3\" class=\"data row3 col3\" >-34.095507</td>\n",
              "      <td id=\"T_bf91e_row3_col4\" class=\"data row3 col4\" >-39.089556</td>\n",
              "      <td id=\"T_bf91e_row3_col5\" class=\"data row3 col5\" >-24.205856</td>\n",
              "      <td id=\"T_bf91e_row3_col6\" class=\"data row3 col6\" >-25.173554</td>\n",
              "      <td id=\"T_bf91e_row3_col7\" class=\"data row3 col7\" >-32.222101</td>\n",
              "      <td id=\"T_bf91e_row3_col8\" class=\"data row3 col8\" >-37.005764</td>\n",
              "      <td id=\"T_bf91e_row3_col9\" class=\"data row3 col9\" >-39.018448</td>\n",
              "      <td id=\"T_bf91e_row3_col10\" class=\"data row3 col10\" >-37.243825</td>\n",
              "      <td id=\"T_bf91e_row3_col11\" class=\"data row3 col11\" >-36.299919</td>\n",
              "      <td id=\"T_bf91e_row3_col12\" class=\"data row3 col12\" >-38.220631</td>\n",
              "      <td id=\"T_bf91e_row3_col13\" class=\"data row3 col13\" >-38.855964</td>\n",
              "      <td id=\"T_bf91e_row3_col14\" class=\"data row3 col14\" >-36.907702</td>\n",
              "      <td id=\"T_bf91e_row3_col15\" class=\"data row3 col15\" >-41.241589</td>\n",
              "      <td id=\"T_bf91e_row3_col16\" class=\"data row3 col16\" >-41.859141</td>\n",
              "      <td id=\"T_bf91e_row3_col17\" class=\"data row3 col17\" >-41.442231</td>\n",
              "      <td id=\"T_bf91e_row3_col18\" class=\"data row3 col18\" >-36.957696</td>\n",
              "      <td id=\"T_bf91e_row3_col19\" class=\"data row3 col19\" >-32.745391</td>\n",
              "      <td id=\"T_bf91e_row3_col20\" class=\"data row3 col20\" >-44.648031</td>\n",
              "      <td id=\"T_bf91e_row3_col21\" class=\"data row3 col21\" >-44.571393</td>\n",
              "      <td id=\"T_bf91e_row3_col22\" class=\"data row3 col22\" >-41.065612</td>\n",
              "      <td id=\"T_bf91e_row3_col23\" class=\"data row3 col23\" >-37.018676</td>\n",
              "      <td id=\"T_bf91e_row3_col24\" class=\"data row3 col24\" >0.000000</td>\n",
              "    </tr>\n",
              "  </tbody>\n",
              "</table>\n"
            ]
          },
          "metadata": {},
          "execution_count": 11
        }
      ]
    },
    {
      "cell_type": "markdown",
      "source": [
        "## Incremental MC (Mission)\n",
        "\n",
        "\n",
        "$$V(s) \\leftarrow V(s) + \\alpha (G(s) - V(s))$$\n",
        "$$Q(s,a) \\leftarrow Q(s,a) + \\alpha (G(s,a) - Q(s,a))$$\n",
        "\n",
        "$\\alpha$: learning rate \\\\\n",
        "$G(s)$:상태 s에서의 return \\\\\n",
        "$G(s,a)$: 상태 s, 행동 a에서의 return\n",
        "\n",
        "alpha = 값을 정의한 후 incremental MC 방식으로 v(s)와 q(s,a)의 값을 계산해보세요"
      ],
      "metadata": {
        "id": "oUGcQdOeHtjQ"
      }
    },
    {
      "cell_type": "code",
      "source": [
        "v = np.zeros(shape=nx*ny)\n",
        "q = np.zeros(shape=(nx*ny,4))\n",
        "gamma = 1.0\n",
        "alpha = 1e-3\n",
        "\n",
        "for episode in episodes:\n",
        "    states, actions, rewards = episode\n",
        "\n",
        "    # reversing the inputs! (뒤에서 부터 계산하기 위함)\n",
        "    # for efficient computation of returns\n",
        "    states = reversed(states)\n",
        "    actions = reversed(actions)\n",
        "    rewards = reversed(rewards)\n",
        "\n",
        "    iter = zip(states, actions, rewards)\n",
        "    cum_r = 0\n",
        "    for s, a, r in iter:\n",
        "        cum_r *= gamma\n",
        "        cum_r += r\n",
        "\n",
        "        v[s] += alpha * (cum_r - v[s])\n",
        "        q[s, a] += alpha * (cum_r - q[s, a])"
      ],
      "metadata": {
        "id": "O8zPxybKHt5U"
      },
      "execution_count": 14,
      "outputs": []
    },
    {
      "cell_type": "markdown",
      "metadata": {
        "id": "-d7FdND7KKFt"
      },
      "source": [
        "## 추산된 상태가치함수 $V(s)$ 및 $Q(s,a)$ 확인하기"
      ]
    },
    {
      "cell_type": "code",
      "execution_count": 15,
      "metadata": {
        "id": "INvCdQdOKKFt",
        "colab": {
          "base_uri": "https://localhost:8080/",
          "height": 504
        },
        "outputId": "f8738ac4-47a5-4d24-e025-72384d5892d8"
      },
      "outputs": [
        {
          "output_type": "display_data",
          "data": {
            "text/plain": [
              "<Figure size 1200x600 with 3 Axes>"
            ],
            "image/png": "[encoded data removed]"
          },
          "metadata": {}
        }
      ],
      "source": [
        "fig, ax = plt.subplots(1,2, figsize=(12,6))\n",
        "visualize_value_function(ax[0], v, nx, ny)\n",
        "_ = ax[0].set_title(\"Value pi\")\n",
        "visualize_policy(ax[1], q, nx, ny)\n",
        "_ = ax[1].set_title(\"Greedy policy\")"
      ]
    },
    {
      "cell_type": "code",
      "execution_count": 16,
      "metadata": {
        "id": "TdLqiJ3WKKFt",
        "colab": {
          "base_uri": "https://localhost:8080/",
          "height": 195
        },
        "outputId": "65d9dcac-c27a-4f38-ac28-f989adcc0a12"
      },
      "outputs": [
        {
          "output_type": "execute_result",
          "data": {
            "text/plain": [
              "<pandas.io.formats.style.Styler at 0x7f37ac47c130>"
            ],
            "text/html": [
              "<style type=\"text/css\">\n",
              "#T_afafb_row0_col0, #T_afafb_row0_col5, #T_afafb_row0_col10, #T_afafb_row0_col11, #T_afafb_row0_col15, #T_afafb_row0_col20, #T_afafb_row0_col24, #T_afafb_row1_col0, #T_afafb_row1_col12, #T_afafb_row1_col16, #T_afafb_row1_col17, #T_afafb_row1_col18, #T_afafb_row1_col21, #T_afafb_row1_col22, #T_afafb_row1_col23, #T_afafb_row1_col24, #T_afafb_row2_col0, #T_afafb_row2_col8, #T_afafb_row2_col9, #T_afafb_row2_col13, #T_afafb_row2_col14, #T_afafb_row2_col19, #T_afafb_row2_col24, #T_afafb_row3_col0, #T_afafb_row3_col1, #T_afafb_row3_col2, #T_afafb_row3_col3, #T_afafb_row3_col4, #T_afafb_row3_col6, #T_afafb_row3_col7, #T_afafb_row3_col24 {\n",
              "  background-color: green;\n",
              "}\n",
              "</style>\n",
              "<table id=\"T_afafb\" class=\"dataframe\">\n",
              "  <thead>\n",
              "    <tr>\n",
              "      <th class=\"blank level0\" >&nbsp;</th>\n",
              "      <th id=\"T_afafb_level0_col0\" class=\"col_heading level0 col0\" >0</th>\n",
              "      <th id=\"T_afafb_level0_col1\" class=\"col_heading level0 col1\" >1</th>\n",
              "      <th id=\"T_afafb_level0_col2\" class=\"col_heading level0 col2\" >2</th>\n",
              "      <th id=\"T_afafb_level0_col3\" class=\"col_heading level0 col3\" >3</th>\n",
              "      <th id=\"T_afafb_level0_col4\" class=\"col_heading level0 col4\" >4</th>\n",
              "      <th id=\"T_afafb_level0_col5\" class=\"col_heading level0 col5\" >5</th>\n",
              "      <th id=\"T_afafb_level0_col6\" class=\"col_heading level0 col6\" >6</th>\n",
              "      <th id=\"T_afafb_level0_col7\" class=\"col_heading level0 col7\" >7</th>\n",
              "      <th id=\"T_afafb_level0_col8\" class=\"col_heading level0 col8\" >8</th>\n",
              "      <th id=\"T_afafb_level0_col9\" class=\"col_heading level0 col9\" >9</th>\n",
              "      <th id=\"T_afafb_level0_col10\" class=\"col_heading level0 col10\" >10</th>\n",
              "      <th id=\"T_afafb_level0_col11\" class=\"col_heading level0 col11\" >11</th>\n",
              "      <th id=\"T_afafb_level0_col12\" class=\"col_heading level0 col12\" >12</th>\n",
              "      <th id=\"T_afafb_level0_col13\" class=\"col_heading level0 col13\" >13</th>\n",
              "      <th id=\"T_afafb_level0_col14\" class=\"col_heading level0 col14\" >14</th>\n",
              "      <th id=\"T_afafb_level0_col15\" class=\"col_heading level0 col15\" >15</th>\n",
              "      <th id=\"T_afafb_level0_col16\" class=\"col_heading level0 col16\" >16</th>\n",
              "      <th id=\"T_afafb_level0_col17\" class=\"col_heading level0 col17\" >17</th>\n",
              "      <th id=\"T_afafb_level0_col18\" class=\"col_heading level0 col18\" >18</th>\n",
              "      <th id=\"T_afafb_level0_col19\" class=\"col_heading level0 col19\" >19</th>\n",
              "      <th id=\"T_afafb_level0_col20\" class=\"col_heading level0 col20\" >20</th>\n",
              "      <th id=\"T_afafb_level0_col21\" class=\"col_heading level0 col21\" >21</th>\n",
              "      <th id=\"T_afafb_level0_col22\" class=\"col_heading level0 col22\" >22</th>\n",
              "      <th id=\"T_afafb_level0_col23\" class=\"col_heading level0 col23\" >23</th>\n",
              "      <th id=\"T_afafb_level0_col24\" class=\"col_heading level0 col24\" >24</th>\n",
              "    </tr>\n",
              "  </thead>\n",
              "  <tbody>\n",
              "    <tr>\n",
              "      <th id=\"T_afafb_level0_row0\" class=\"row_heading level0 row0\" >up</th>\n",
              "      <td id=\"T_afafb_row0_col0\" class=\"data row0 col0\" >0.000000</td>\n",
              "      <td id=\"T_afafb_row0_col1\" class=\"data row0 col1\" >-23.542063</td>\n",
              "      <td id=\"T_afafb_row0_col2\" class=\"data row0 col2\" >-34.312001</td>\n",
              "      <td id=\"T_afafb_row0_col3\" class=\"data row0 col3\" >-39.104115</td>\n",
              "      <td id=\"T_afafb_row0_col4\" class=\"data row0 col4\" >-40.136254</td>\n",
              "      <td id=\"T_afafb_row0_col5\" class=\"data row0 col5\" >-0.900853</td>\n",
              "      <td id=\"T_afafb_row0_col6\" class=\"data row0 col6\" >-24.926128</td>\n",
              "      <td id=\"T_afafb_row0_col7\" class=\"data row0 col7\" >-34.896810</td>\n",
              "      <td id=\"T_afafb_row0_col8\" class=\"data row0 col8\" >-38.459950</td>\n",
              "      <td id=\"T_afafb_row0_col9\" class=\"data row0 col9\" >-39.711593</td>\n",
              "      <td id=\"T_afafb_row0_col10\" class=\"data row0 col10\" >-24.958939</td>\n",
              "      <td id=\"T_afafb_row0_col11\" class=\"data row0 col11\" >-32.385893</td>\n",
              "      <td id=\"T_afafb_row0_col12\" class=\"data row0 col12\" >-37.423055</td>\n",
              "      <td id=\"T_afafb_row0_col13\" class=\"data row0 col13\" >-38.401121</td>\n",
              "      <td id=\"T_afafb_row0_col14\" class=\"data row0 col14\" >-38.339497</td>\n",
              "      <td id=\"T_afafb_row0_col15\" class=\"data row0 col15\" >-36.369782</td>\n",
              "      <td id=\"T_afafb_row0_col16\" class=\"data row0 col16\" >-37.764370</td>\n",
              "      <td id=\"T_afafb_row0_col17\" class=\"data row0 col17\" >-37.244813</td>\n",
              "      <td id=\"T_afafb_row0_col18\" class=\"data row0 col18\" >-36.939937</td>\n",
              "      <td id=\"T_afafb_row0_col19\" class=\"data row0 col19\" >-31.310821</td>\n",
              "      <td id=\"T_afafb_row0_col20\" class=\"data row0 col20\" >-40.672025</td>\n",
              "      <td id=\"T_afafb_row0_col21\" class=\"data row0 col21\" >-40.561756</td>\n",
              "      <td id=\"T_afafb_row0_col22\" class=\"data row0 col22\" >-37.164704</td>\n",
              "      <td id=\"T_afafb_row0_col23\" class=\"data row0 col23\" >-27.091599</td>\n",
              "      <td id=\"T_afafb_row0_col24\" class=\"data row0 col24\" >0.000000</td>\n",
              "    </tr>\n",
              "    <tr>\n",
              "      <th id=\"T_afafb_level0_row1\" class=\"row_heading level0 row1\" >right</th>\n",
              "      <td id=\"T_afafb_row1_col0\" class=\"data row1 col0\" >0.000000</td>\n",
              "      <td id=\"T_afafb_row1_col1\" class=\"data row1 col1\" >-33.745176</td>\n",
              "      <td id=\"T_afafb_row1_col2\" class=\"data row1 col2\" >-38.814238</td>\n",
              "      <td id=\"T_afafb_row1_col3\" class=\"data row1 col3\" >-40.618563</td>\n",
              "      <td id=\"T_afafb_row1_col4\" class=\"data row1 col4\" >-40.496248</td>\n",
              "      <td id=\"T_afafb_row1_col5\" class=\"data row1 col5\" >-29.656791</td>\n",
              "      <td id=\"T_afafb_row1_col6\" class=\"data row1 col6\" >-37.081436</td>\n",
              "      <td id=\"T_afafb_row1_col7\" class=\"data row1 col7\" >-39.300655</td>\n",
              "      <td id=\"T_afafb_row1_col8\" class=\"data row1 col8\" >-39.998641</td>\n",
              "      <td id=\"T_afafb_row1_col9\" class=\"data row1 col9\" >-40.051406</td>\n",
              "      <td id=\"T_afafb_row1_col10\" class=\"data row1 col10\" >-38.721862</td>\n",
              "      <td id=\"T_afafb_row1_col11\" class=\"data row1 col11\" >-38.560017</td>\n",
              "      <td id=\"T_afafb_row1_col12\" class=\"data row1 col12\" >-36.299076</td>\n",
              "      <td id=\"T_afafb_row1_col13\" class=\"data row1 col13\" >-34.015540</td>\n",
              "      <td id=\"T_afafb_row1_col14\" class=\"data row1 col14\" >-34.422784</td>\n",
              "      <td id=\"T_afafb_row1_col15\" class=\"data row1 col15\" >-38.075498</td>\n",
              "      <td id=\"T_afafb_row1_col16\" class=\"data row1 col16\" >-36.651858</td>\n",
              "      <td id=\"T_afafb_row1_col17\" class=\"data row1 col17\" >-30.838414</td>\n",
              "      <td id=\"T_afafb_row1_col18\" class=\"data row1 col18\" >-22.645843</td>\n",
              "      <td id=\"T_afafb_row1_col19\" class=\"data row1 col19\" >-22.294068</td>\n",
              "      <td id=\"T_afafb_row1_col20\" class=\"data row1 col20\" >-41.006221</td>\n",
              "      <td id=\"T_afafb_row1_col21\" class=\"data row1 col21\" >-34.583895</td>\n",
              "      <td id=\"T_afafb_row1_col22\" class=\"data row1 col22\" >-22.691612</td>\n",
              "      <td id=\"T_afafb_row1_col23\" class=\"data row1 col23\" >-0.897730</td>\n",
              "      <td id=\"T_afafb_row1_col24\" class=\"data row1 col24\" >0.000000</td>\n",
              "    </tr>\n",
              "    <tr>\n",
              "      <th id=\"T_afafb_level0_row2\" class=\"row_heading level0 row2\" >down</th>\n",
              "      <td id=\"T_afafb_row2_col0\" class=\"data row2 col0\" >0.000000</td>\n",
              "      <td id=\"T_afafb_row2_col1\" class=\"data row2 col1\" >-29.379973</td>\n",
              "      <td id=\"T_afafb_row2_col2\" class=\"data row2 col2\" >-37.846169</td>\n",
              "      <td id=\"T_afafb_row2_col3\" class=\"data row2 col3\" >-37.539026</td>\n",
              "      <td id=\"T_afafb_row2_col4\" class=\"data row2 col4\" >-38.733525</td>\n",
              "      <td id=\"T_afafb_row2_col5\" class=\"data row2 col5\" >-33.097907</td>\n",
              "      <td id=\"T_afafb_row2_col6\" class=\"data row2 col6\" >-36.238164</td>\n",
              "      <td id=\"T_afafb_row2_col7\" class=\"data row2 col7\" >-38.330774</td>\n",
              "      <td id=\"T_afafb_row2_col8\" class=\"data row2 col8\" >-35.696425</td>\n",
              "      <td id=\"T_afafb_row2_col9\" class=\"data row2 col9\" >-35.292973</td>\n",
              "      <td id=\"T_afafb_row2_col10\" class=\"data row2 col10\" >-40.360100</td>\n",
              "      <td id=\"T_afafb_row2_col11\" class=\"data row2 col11\" >-39.514523</td>\n",
              "      <td id=\"T_afafb_row2_col12\" class=\"data row2 col12\" >-36.916974</td>\n",
              "      <td id=\"T_afafb_row2_col13\" class=\"data row2 col13\" >-31.839192</td>\n",
              "      <td id=\"T_afafb_row2_col14\" class=\"data row2 col14\" >-23.726524</td>\n",
              "      <td id=\"T_afafb_row2_col15\" class=\"data row2 col15\" >-42.694208</td>\n",
              "      <td id=\"T_afafb_row2_col16\" class=\"data row2 col16\" >-40.837837</td>\n",
              "      <td id=\"T_afafb_row2_col17\" class=\"data row2 col17\" >-33.545232</td>\n",
              "      <td id=\"T_afafb_row2_col18\" class=\"data row2 col18\" >-22.785053</td>\n",
              "      <td id=\"T_afafb_row2_col19\" class=\"data row2 col19\" >-0.894719</td>\n",
              "      <td id=\"T_afafb_row2_col20\" class=\"data row2 col20\" >-42.797510</td>\n",
              "      <td id=\"T_afafb_row2_col21\" class=\"data row2 col21\" >-41.161656</td>\n",
              "      <td id=\"T_afafb_row2_col22\" class=\"data row2 col22\" >-35.068237</td>\n",
              "      <td id=\"T_afafb_row2_col23\" class=\"data row2 col23\" >-22.307391</td>\n",
              "      <td id=\"T_afafb_row2_col24\" class=\"data row2 col24\" >0.000000</td>\n",
              "    </tr>\n",
              "    <tr>\n",
              "      <th id=\"T_afafb_level0_row3\" class=\"row_heading level0 row3\" >left</th>\n",
              "      <td id=\"T_afafb_row3_col0\" class=\"data row3 col0\" >0.000000</td>\n",
              "      <td id=\"T_afafb_row3_col1\" class=\"data row3 col1\" >-0.903689</td>\n",
              "      <td id=\"T_afafb_row3_col2\" class=\"data row3 col2\" >-23.221930</td>\n",
              "      <td id=\"T_afafb_row3_col3\" class=\"data row3 col3\" >-33.918610</td>\n",
              "      <td id=\"T_afafb_row3_col4\" class=\"data row3 col4\" >-38.189536</td>\n",
              "      <td id=\"T_afafb_row3_col5\" class=\"data row3 col5\" >-22.353064</td>\n",
              "      <td id=\"T_afafb_row3_col6\" class=\"data row3 col6\" >-23.971208</td>\n",
              "      <td id=\"T_afafb_row3_col7\" class=\"data row3 col7\" >-32.095059</td>\n",
              "      <td id=\"T_afafb_row3_col8\" class=\"data row3 col8\" >-36.081537</td>\n",
              "      <td id=\"T_afafb_row3_col9\" class=\"data row3 col9\" >-38.745456</td>\n",
              "      <td id=\"T_afafb_row3_col10\" class=\"data row3 col10\" >-36.245045</td>\n",
              "      <td id=\"T_afafb_row3_col11\" class=\"data row3 col11\" >-36.826900</td>\n",
              "      <td id=\"T_afafb_row3_col12\" class=\"data row3 col12\" >-37.425079</td>\n",
              "      <td id=\"T_afafb_row3_col13\" class=\"data row3 col13\" >-37.668303</td>\n",
              "      <td id=\"T_afafb_row3_col14\" class=\"data row3 col14\" >-36.194277</td>\n",
              "      <td id=\"T_afafb_row3_col15\" class=\"data row3 col15\" >-39.060771</td>\n",
              "      <td id=\"T_afafb_row3_col16\" class=\"data row3 col16\" >-40.384313</td>\n",
              "      <td id=\"T_afafb_row3_col17\" class=\"data row3 col17\" >-40.745622</td>\n",
              "      <td id=\"T_afafb_row3_col18\" class=\"data row3 col18\" >-34.898927</td>\n",
              "      <td id=\"T_afafb_row3_col19\" class=\"data row3 col19\" >-29.383286</td>\n",
              "      <td id=\"T_afafb_row3_col20\" class=\"data row3 col20\" >-43.016713</td>\n",
              "      <td id=\"T_afafb_row3_col21\" class=\"data row3 col21\" >-43.299864</td>\n",
              "      <td id=\"T_afafb_row3_col22\" class=\"data row3 col22\" >-39.275339</td>\n",
              "      <td id=\"T_afafb_row3_col23\" class=\"data row3 col23\" >-33.248927</td>\n",
              "      <td id=\"T_afafb_row3_col24\" class=\"data row3 col24\" >0.000000</td>\n",
              "    </tr>\n",
              "  </tbody>\n",
              "</table>\n"
            ]
          },
          "metadata": {},
          "execution_count": 16
        }
      ],
      "source": [
        "import pandas as pd\n",
        "\n",
        "def highlight_max(s):\n",
        "    '''\n",
        "    highlight the maximum in a Series green.\n",
        "    '''\n",
        "    is_max = s == s.max()\n",
        "    return ['background-color: green' if v else '' for v in is_max]\n",
        "\n",
        "def visualize_q(q):\n",
        "    df = pd.DataFrame(q, columns=['up', 'right', 'down', 'left']).T\n",
        "    df = df.style.apply(highlight_max)\n",
        "    return df\n",
        "df = visualize_q(q)\n",
        "df"
      ]
    }
  ],
  "metadata": {
    "kernelspec": {
      "display_name": "Python 3 (ipykernel)",
      "language": "python",
      "name": "python3"
    },
    "language_info": {
      "codemirror_mode": {
        "name": "ipython",
        "version": 3
      },
      "file_extension": ".py",
      "mimetype": "text/x-python",
      "name": "python",
      "nbconvert_exporter": "python",
      "pygments_lexer": "ipython3",
      "version": "3.7.13"
    },
    "colab": {
      "provenance": []
    }
  },
  "nbformat": 4,
  "nbformat_minor": 0
}